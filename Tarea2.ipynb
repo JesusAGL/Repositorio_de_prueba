{
 "cells": [
  {
   "cell_type": "markdown",
   "source": [
    "# Tarea 2: Derivación automática"
   ],
   "metadata": {}
  },
  {
   "cell_type": "markdown",
   "source": [
    "## Ejercicio 1"
   ],
   "metadata": {}
  },
  {
   "cell_type": "markdown",
   "source": [
    "Consideraren la siguiente definición de la derivada, que podemos llamar\n",
    "*derivada de paso complejo*:\n",
    "$$\n",
    "f^\\prime(x_0) \\equiv \\lim_{h\\to 0} \\textrm{Im}\\left(\\frac{f(x_0+i h)}{h}\\right),\n",
    "$$\n",
    "donde $i^2 = -1$, e $\\textrm{Im}(z)$ es la parte imaginaria de $z$.\n",
    "\n",
    "- Estudien el comportamiento del error de la derivada de paso complejo, como\n",
    "lo hicimos en clase, simulando el límite $h\\to 0$.\n",
    "\n",
    "- Expliquen analíticamente los resultados numéricos obtenidos.\n",
    "\n",
    "NOTA: En caso de que se atoren, o que el tema les interese más, ver\n",
    "[este artículo](https://epubs.siam.org/doi/epdf/10.1137/S003614459631241X)\n",
    "y/o [esta liga](https://nhigham.com/2020/10/06/what-is-the-complex-step-approximation/)."
   ],
   "metadata": {}
  },
  {
   "cell_type": "markdown",
   "source": [
    "## Ejercicio 2\n",
    "\n",
    "- Definan una estructura en Julia `Dual` que represente a los números duales;\n",
    "los nombres de los campos internos serán `fun` y `der`.\n",
    "Por sencillez, pueden considerar que los campos de `Dual` son del tipo `Float64`,\n",
    "aunque pueden *osar* y atreverse a implementar el caso paramétrico `Dual{T <: Real}`,\n",
    "donde `T` es el tipo de *ambos* campos.\n",
    "\n",
    "- Sobrecarguen las operaciones de tal manera que las cuatro operaciones aritméticas\n",
    "que involucran dos `Dual`es, den el resultado que se espera.\n",
    "\n",
    "- Definan un método específico para crear duales (constructor externo), a partir de\n",
    "un sólo valor (en lugar de los dos requeridos), y que corresponderá a\n",
    "$\\mathbb{D}_{x_0}c = (c, 0)$, donde $c$ es una constante (real).\n",
    "\n",
    "- Extiendan los métodos que permitan sumar/restar y multiplicar/dividir un\n",
    "número (`::Real`) y un `::Dual`. (Recuerden que ciertas operaciones son conmutativas!).\n",
    "NOTA: Este ejercicio lo pueden hacer escribiendo todos los métodos, uno a uno. Otra\n",
    "opción es usar `promote` y `convert` para definir reglas de promoción y conversión;\n",
    "[la documentación](https://docs.julialang.org/en/v1/manual/conversion-and-promotion/)\n",
    "tiene más información, por si este camino les interesa.\n",
    "\n",
    "- Definan las funciones `fun` y `der` que, al ser aplicadas a un `Dual` devuelvan\n",
    "la parte que corresponde a la función y la parte que corresponde a la derivada\n",
    "del `Dual`, respectivamente.\n",
    "\n",
    "- Incluyan varios casos (propuestos por ustedes mismos) donde se *compruebe*\n",
    "que lo que\n",
    "implementaron da el resultado que debería ser. Para esto, pueden usar la librería\n",
    "estándard [`Test`](https://docs.julialang.org/en/v1/stdlib/Test/) de Julia."
   ],
   "metadata": {}
  },
  {
   "cell_type": "markdown",
   "source": [
    "## Ejercicio 3\n",
    "\n",
    "Definan una nueva función `dual(x_0)` cuyo resultado sea un `Dual` que corresponde\n",
    "a la variable independiente $x$ evaluada en `x_0`. Con esta función\n",
    "obtengan $f'(2)$ para la función\n",
    "$$\n",
    "f(x) = \\frac{3x^2-8x+1}{7x^3-1}.\n",
    "$$"
   ],
   "metadata": {}
  },
  {
   "cell_type": "markdown",
   "source": [
    "## Ejercicio 4\n",
    "\n",
    "- A partir de lo visto en clase, *extiendan* las funciones `sin(a::Dual)`,\n",
    "`cos(a::Dual)`, `tan(a::Dual)`, `^(a::Dual, n::Int)`, `sqrt(a::Dual)`, `exp(a::Dual)`\n",
    "y `log(a::Dual)`, al igual que `a^n` (con `a::Dual` y `n::Int`).\n",
    "\n",
    "- Al igual que antes, construyan algún conjunto de pruebas que muestre, de manera\n",
    "sencilla, que lo que hicieron da lo que uno esperaría obtener."
   ],
   "metadata": {}
  },
  {
   "cell_type": "markdown",
   "source": [
    "---\n",
    "\n",
    "*This notebook was generated using [Literate.jl](https://github.com/fredrikekre/Literate.jl).*"
   ],
   "metadata": {}
  }
 ],
 "nbformat_minor": 3,
 "metadata": {
  "language_info": {
   "file_extension": ".jl",
   "mimetype": "application/julia",
   "name": "julia",
   "version": "1.10.5"
  },
  "kernelspec": {
   "name": "julia-1.10",
   "display_name": "Julia 1.10.5",
   "language": "julia"
  }
 },
 "nbformat": 4
}
